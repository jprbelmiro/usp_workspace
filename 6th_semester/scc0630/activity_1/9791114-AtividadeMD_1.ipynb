{
 "cells": [
  {
   "cell_type": "markdown",
   "metadata": {},
   "source": [
    "# ACTIVITY 1 - DATA MINING (Iris Dataset)\n",
    "# Author: Matheus Aparecido do Carmo Alves - 9791114"
   ]
  },
  {
   "cell_type": "markdown",
   "metadata": {},
   "source": [
    "The first step is to import the python packages:"
   ]
  },
  {
   "cell_type": "code",
   "execution_count": 1,
   "metadata": {},
   "outputs": [],
   "source": [
    "# Importing the packages\n",
    "import numpy as np\n",
    "import matplotlib.pyplot as plt\n",
    "\n",
    "from sklearn import tree\n",
    "from sklearn.datasets import load_iris\n",
    "from sklearn.metrics import confusion_matrix\n",
    "from sklearn.model_selection import train_test_split\n",
    "from sklearn.utils.multiclass import unique_labels\n",
    "\n",
    "import pandas as pd"
   ]
  },
  {
   "cell_type": "markdown",
   "metadata": {},
   "source": [
    "After import, we need to get the Iris dataset, following the code line bellow [2].\n",
    "\n",
    "The Iris dataset contains the attributes:\n",
    "1. sepal length in cm\n",
    "2. sepal width in cm\n",
    "3. petal length in cm\n",
    "4. petal width in cm\n",
    "5. classes: [Iris-setosa, Iris-versicolour, Iris-virginica]"
   ]
  },
  {
   "cell_type": "code",
   "execution_count": 2,
   "metadata": {},
   "outputs": [],
   "source": [
    "# 1. Getting the Iris data\n",
    "iris = load_iris()"
   ]
  },
  {
   "cell_type": "markdown",
   "metadata": {},
   "source": [
    "Now, we need to split the data set into a random train and test subsets as [3].\n",
    "\n",
    "Note: \n",
    "- Train set = 75% of available data; Test set = 25% of available data\n",
    "- The sets are assembled randomly"
   ]
  },
  {
   "cell_type": "code",
   "execution_count": 3,
   "metadata": {},
   "outputs": [
    {
     "name": "stdout",
     "output_type": "stream",
     "text": [
      "Train set size: 112\n",
      "Test set size: 38 \n",
      "\n"
     ]
    }
   ],
   "source": [
    "# 2. Splitting the data set into random train and test subsets\n",
    "train_set, test_set, train_class, test_class = \\\n",
    "\ttrain_test_split(iris['data'],iris['target'],train_size=0.75,test_size=0.25)\n",
    "\n",
    "print('Train set size:',len(train_set))\n",
    "print('Test set size:',len(test_set),'\\n')"
   ]
  },
  {
   "cell_type": "markdown",
   "metadata": {},
   "source": [
    "After split, we will use the set of trains and train classes to train our classification tree as in [4]."
   ]
  },
  {
   "cell_type": "code",
   "execution_count": 4,
   "metadata": {},
   "outputs": [],
   "source": [
    "# 3. Classification steps\n",
    "# a. Building the classification tree\n",
    "classification_tree = tree.DecisionTreeClassifier()\n",
    "classification_tree = classification_tree.fit(train_set,train_class)"
   ]
  },
  {
   "cell_type": "markdown",
   "metadata": {},
   "source": [
    "And, with the trained tree, we will classify (predict) the classes of the test set in [5]."
   ]
  },
  {
   "cell_type": "code",
   "execution_count": 5,
   "metadata": {},
   "outputs": [],
   "source": [
    "# b. classifing the test set (predicting the test set classes)\n",
    "predict_class = classification_tree.predict(test_set)"
   ]
  },
  {
   "cell_type": "markdown",
   "metadata": {},
   "source": [
    "This last step represents the classification step.\n",
    "\n",
    "To show the results, we will build and plot a confusion matrix, following the steps:"
   ]
  },
  {
   "cell_type": "markdown",
   "metadata": {},
   "source": [
    "1- Calculating the confusion matrix;"
   ]
  },
  {
   "cell_type": "code",
   "execution_count": 6,
   "metadata": {},
   "outputs": [
    {
     "name": "stdout",
     "output_type": "stream",
     "text": [
      "Unnormalized Confusion Matrix\n",
      " [[14  0  0]\n",
      " [ 0 15  1]\n",
      " [ 0  1  7]] \n",
      "\n"
     ]
    }
   ],
   "source": [
    "# c. calculating the confusion matrix\n",
    "result = confusion_matrix(test_class,predict_class)\n",
    "print('Unnormalized Confusion Matrix\\n',result,'\\n')"
   ]
  },
  {
   "cell_type": "markdown",
   "metadata": {},
   "source": [
    "2- Normalizing the resulting confusion matrix;"
   ]
  },
  {
   "cell_type": "code",
   "execution_count": 7,
   "metadata": {},
   "outputs": [
    {
     "name": "stdout",
     "output_type": "stream",
     "text": [
      "Normalized Confusion Matrix\n",
      " [[1.     0.     0.    ]\n",
      " [0.     0.9375 0.0625]\n",
      " [0.     0.125  0.875 ]]\n"
     ]
    }
   ],
   "source": [
    "# d. normalizing the confusion matrix\n",
    "result = result.astype('float') / result.sum(axis=1)[:, np.newaxis]\n",
    "print('Normalized Confusion Matrix\\n',result)"
   ]
  },
  {
   "cell_type": "markdown",
   "metadata": {},
   "source": [
    "3- Getting the confusion matrix labels (classes);"
   ]
  },
  {
   "cell_type": "code",
   "execution_count": 8,
   "metadata": {},
   "outputs": [],
   "source": [
    "# e. getting the confusion matrix labels\n",
    "classes = iris.target_names[unique_labels(train_class, predict_class)]"
   ]
  },
  {
   "cell_type": "markdown",
   "metadata": {},
   "source": [
    "4- Plotting by Matplotlib."
   ]
  },
  {
   "cell_type": "code",
   "execution_count": 9,
   "metadata": {},
   "outputs": [
    {
     "data": {
      "image/png": "[encoded data removed]",
      "text/plain": [
       "<Figure size 432x288 with 2 Axes>"
      ]
     },
     "metadata": {
      "needs_background": "light"
     },
     "output_type": "display_data"
    }
   ],
   "source": [
    "# 4. Plotting the results\n",
    "# a. configuring the plot\n",
    "fig, ax = plt.subplots()\n",
    "im = ax.imshow(result, interpolation='nearest', cmap=plt.cm.Blues)\n",
    "ax.figure.colorbar(im, ax=ax)\n",
    "ax.set(xticks=np.arange(result.shape[1]),yticks=np.arange(result.shape[0]),\\\n",
    "    xticklabels=iris.target_names, yticklabels=iris.target_names,\\\n",
    "    title='Confusion Matrix', ylabel='True class', xlabel='Predicted class')\n",
    "\n",
    "plt.setp(ax.get_xticklabels(), rotation=45, ha=\"right\", rotation_mode=\"anchor\")\n",
    "fmt = '.2f'\n",
    "thresh = result.max() / 2.\n",
    "for i in range(result.shape[0]):\n",
    "    for j in range(result.shape[1]):\n",
    "        ax.text(j, i, format(result[i, j], fmt),\\\n",
    "            ha=\"center\", va=\"center\",\\\n",
    "            color=\"white\" if result[i, j] > thresh else \"black\")\n",
    "fig.tight_layout()\n",
    "\n",
    "# b. plotting\n",
    "plt.show()"
   ]
  }
 ],
 "metadata": {
  "kernelspec": {
   "display_name": "Python 3",
   "language": "python",
   "name": "python3"
  },
  "language_info": {
   "codemirror_mode": {
    "name": "ipython",
    "version": 3
   },
   "file_extension": ".py",
   "mimetype": "text/x-python",
   "name": "python",
   "nbconvert_exporter": "python",
   "pygments_lexer": "ipython3",
   "version": "3.6.7"
  }
 },
 "nbformat": 4,
 "nbformat_minor": 2
}
